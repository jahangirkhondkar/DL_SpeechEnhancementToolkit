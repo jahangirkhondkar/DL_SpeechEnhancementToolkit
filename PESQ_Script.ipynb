{
 "cells": [
  {
   "cell_type": "markdown",
   "metadata": {},
   "source": [
    "Script for Calculate PESQ"
   ]
  },
  {
   "cell_type": "code",
   "execution_count": 34,
   "metadata": {},
   "outputs": [
    {
     "name": "stdout",
     "output_type": "stream",
     "text": [
      "PESQ evaluation completed. Results saved to /media/lab2208/New Volume/Organized Voice data HDD/CMGAN/Results/PESQ/PESQ_WaveUNet_VPQAD.xlsx\n"
     ]
    }
   ],
   "source": [
    "import os\n",
    "import pandas as pd\n",
    "import soundfile as sf\n",
    "import librosa\n",
    "from pesq import pesq, PesqError\n",
    "\n",
    "# Define directories\n",
    "filtered_dir = \"/media/lab2208/New Volume/Organized Voice data HDD/WaveUNet/VPQAD_filtered\"\n",
    "nonfiltered_dir = \"/media/lab2208/New Volume/Organized Voice data HDD/VPQAD_Cafeteria_raw_TD\"\n",
    "\n",
    "destination_path = \"/media/lab2208/New Volume/Organized Voice data HDD/CMGAN/Results/PESQ/PESQ_WaveUNet_VPQAD.xlsx\"\n",
    "\n",
    "# Initialize list for results\n",
    "results = []\n",
    "\n",
    "# Iterate over files in the nonfiltered directory\n",
    "for file_name in os.listdir(nonfiltered_dir):\n",
    "    if file_name.endswith(\".wav\"):\n",
    "        # Construct paths for nonfiltered and filtered files\n",
    "        nonfiltered_path = os.path.join(nonfiltered_dir, file_name)\n",
    "        filtered_path = os.path.join(filtered_dir, file_name)\n",
    "\n",
    "        # Check if the corresponding filtered file exists\n",
    "        if os.path.exists(filtered_path):\n",
    "            # Load the nonfiltered and filtered audio files\n",
    "            nonfiltered_audio, sr1 = sf.read(nonfiltered_path)\n",
    "            filtered_audio, sr2 = sf.read(filtered_path)\n",
    "\n",
    "            # Resample if the sampling rate is not 16000 Hz\n",
    "            if sr1 != 16000:\n",
    "                nonfiltered_audio = librosa.resample(nonfiltered_audio.T, orig_sr=sr1, target_sr=16000).T\n",
    "                sr1 = 16000\n",
    "\n",
    "            if sr2 != 16000:\n",
    "                filtered_audio = librosa.resample(filtered_audio.T, orig_sr=sr2, target_sr=16000).T\n",
    "                sr2 = 16000\n",
    "\n",
    "            # Ensure both have the same sampling rate (should be 16000 Hz)\n",
    "            if sr1 == sr2 == 16000:\n",
    "                try:\n",
    "                    # Ensure the audio arrays are 1D\n",
    "                    if nonfiltered_audio.ndim > 1:\n",
    "                        nonfiltered_audio = nonfiltered_audio[:, 0]\n",
    "                    if filtered_audio.ndim > 1:\n",
    "                        filtered_audio = filtered_audio[:, 0]\n",
    "\n",
    "                    # Calculate PESQ\n",
    "                    pesq_value = pesq(sr1, nonfiltered_audio, filtered_audio, 'nb')\n",
    "\n",
    "                    # Append the results\n",
    "                    results.append({\n",
    "                        \"File Name\": file_name,\n",
    "                        \"PESQ Value\": pesq_value\n",
    "                    })\n",
    "                except PesqError as e:\n",
    "                    print(f\"PESQ calculation failed for {file_name}: {e}\")\n",
    "\n",
    "# Convert results to a DataFrame and save to Excel\n",
    "df = pd.DataFrame(results)\n",
    "df.to_excel(destination_path, index=False)\n",
    "\n",
    "print(f\"PESQ evaluation completed. Results saved to {destination_path}\")\n"
   ]
  }
 ],
 "metadata": {
  "colab": {
   "provenance": []
  },
  "kernelspec": {
   "display_name": "base",
   "language": "python",
   "name": "python3"
  },
  "language_info": {
   "codemirror_mode": {
    "name": "ipython",
    "version": 3
   },
   "file_extension": ".py",
   "mimetype": "text/x-python",
   "name": "python",
   "nbconvert_exporter": "python",
   "pygments_lexer": "ipython3",
   "version": "3.11.5"
  }
 },
 "nbformat": 4,
 "nbformat_minor": 0
}
